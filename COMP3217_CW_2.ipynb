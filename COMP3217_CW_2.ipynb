{
  "nbformat": 4,
  "nbformat_minor": 0,
  "metadata": {
    "colab": {
      "provenance": [],
      "authorship_tag": "ABX9TyO5mCyd2M+KkBZAFflWkmko",
      "include_colab_link": true
    },
    "kernelspec": {
      "name": "python3",
      "display_name": "Python 3"
    },
    "language_info": {
      "name": "python"
    }
  },
  "cells": [
    {
      "cell_type": "markdown",
      "metadata": {
        "id": "view-in-github",
        "colab_type": "text"
      },
      "source": [
        "<a href=\"https://colab.research.google.com/github/SkymanOne/COMP3217_CW2/blob/main/COMP3217_CW_2.ipynb\" target=\"_parent\"><img src=\"https://colab.research.google.com/assets/colab-badge.svg\" alt=\"Open In Colab\"/></a>"
      ]
    },
    {
      "cell_type": "code",
      "execution_count": null,
      "metadata": {
        "id": "ECjm8kMxA0EG"
      },
      "outputs": [],
      "source": []
    },
    {
      "cell_type": "markdown",
      "source": [
        "# PART A\n",
        "\n",
        "Binary classification of logs.\n",
        "\n",
        "## Naive approach\n"
      ],
      "metadata": {
        "id": "Yt4fhaTDCFXl"
      }
    },
    {
      "cell_type": "code",
      "source": [],
      "metadata": {
        "id": "EClqBbRnCY1k"
      },
      "execution_count": null,
      "outputs": []
    },
    {
      "cell_type": "markdown",
      "source": [],
      "metadata": {
        "id": "9jJnt93fCsGb"
      }
    }
  ]
}